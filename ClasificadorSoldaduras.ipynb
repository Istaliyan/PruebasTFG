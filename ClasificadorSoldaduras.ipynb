{
 "cells": [
  {
   "cell_type": "code",
   "execution_count": 63,
   "metadata": {},
   "outputs": [],
   "source": [
    "import torch\n",
    "import torchvision\n",
    "import torchvision.transforms as transforms\n",
    "import matplotlib.pyplot as plt\n",
    "import numpy as np\n",
    "\n",
    "from torch.autograd import Variable"
   ]
  },
  {
   "cell_type": "code",
   "execution_count": 3,
   "metadata": {},
   "outputs": [],
   "source": [
    "transform = transforms.Compose(\n",
    "   [transforms.ToTensor(),\n",
    "    transforms.Normalize((0.5, 0.5, 0.5), (0.5, 0.5, 0.5))])\n",
    "\n",
    "path = './DatasetSoldaduras/'\n",
    "\n",
    "trainset = torchvision.datasets.ImageFolder(root = path,\n",
    "                                           transform = transform)\n",
    "train_loader = torch.utils.data.DataLoader(trainset , batch_size = 4,\n",
    "                                            shuffle = True,\n",
    "                                            drop_last = False,\n",
    "                                            num_workers = 2)\n",
    "\n",
    "\n"
   ]
  },
  {
   "cell_type": "code",
   "execution_count": 5,
   "metadata": {},
   "outputs": [],
   "source": [
    "class AddGaussianNoise(object):\n",
    "    def __init__(self, mean=0., std=1.):\n",
    "        self.std = std\n",
    "        self.mean = mean\n",
    "        \n",
    "    def __call__(self, tensor):\n",
    "        return tensor + torch.randn(tensor.size()) * self.std + self.mean\n",
    "    \n",
    "    def __repr__(self):\n",
    "        return self.__class__.__name__ + '(mean={0}, std={1})'.format(self.mean, self.std)"
   ]
  },
  {
   "cell_type": "code",
   "execution_count": 67,
   "metadata": {},
   "outputs": [
    {
     "name": "stdout",
     "output_type": "stream",
     "text": [
      "<PIL.Image.Image image mode=L size=480x80 at 0x7FF5D5C09700>\n"
     ]
    }
   ],
   "source": [
    "import cv2\n",
    "from PIL import Image\n",
    "import matplotlib.pyplot as plt\n",
    "\n",
    "def gaussian(ins, is_training, mean, stddev):\n",
    "    if is_training:\n",
    "        noise = Variable(ins.data.new(ins.size()).normal_(mean, stddev))\n",
    "        return ins + noise\n",
    "    return ins\n",
    "\n",
    "pil_img = Image.open('./DatasetSoldaduras/NFD1/Pieza_15_Soldadura_77.png')\n",
    "#pil_img = Image.open('./DatasetSoldaduras/NFD1/download.jpg').convert('RGB')\n",
    "trans_T = transforms.ToTensor()\n",
    "trans_S = transforms.Resize((200,1000))\n",
    "trans_P = transforms.ToPILImage()\n",
    "#trans_P(trans_S(trans_T(pil_img))).show()\n",
    "\n",
    "transform=transforms.Compose([\n",
    "    #transforms.Resize((50,150)),\n",
    "    transforms.ToTensor(),\n",
    "    #transforms.Normalize((0.1,), (0.3,)),\n",
    "    AddGaussianNoise(0.3 , 0.04 )\n",
    "    #AddGaussianNoise(0 , 1 )\n",
    "])\n",
    "\n",
    "pil_img = gaussian(trans_T(pil_img), True, 0.3, 0.04)\n",
    "#print(pil_img)\n",
    "pil_img = trans_P(pil_img)\n",
    "pil_img.show()\n",
    "#pil_img = trans_P(transform(pil_img))\n",
    "\n",
    "#pil_img = trans_S(pil_img)\n",
    "print(pil_img)\n",
    "#display(pil_img)\n",
    "pil_img.show()\n",
    "\n",
    "\n",
    "#img = cv2.imread('./DatasetSoldaduras/NFD1/Pieza_15_Soldadura_77.png')\n",
    "#blur = cv2.GaussianBlur(img, (5,5), 0)\n",
    "#plt.imshow(blur)\n",
    "#cv2.imwrite('Gauss.png',blur)\n",
    "\n"
   ]
  },
  {
   "cell_type": "code",
   "execution_count": 37,
   "metadata": {},
   "outputs": [
    {
     "data": {
      "image/png": "[encoded data removed]",
      "text/plain": [
       "<Figure size 432x288 with 1 Axes>"
      ]
     },
     "metadata": {
      "needs_background": "light"
     },
     "output_type": "display_data"
    }
   ],
   "source": [
    "def imshow(img):\n",
    "    img = img / 2 + 0.5     # unnormalize\n",
    "    npimg = img.numpy()\n",
    "    plt.imshow(np.transpose(npimg, (1, 2, 0)))\n",
    "    plt.show()\n",
    "\n",
    "dataiter = iter(train_loader)\n",
    "images, labels = dataiter.next()\n",
    "imshow(torchvision.utils.make_grid(images))"
   ]
  }
 ],
 "metadata": {
  "kernelspec": {
   "display_name": "Python 3",
   "language": "python",
   "name": "python3"
  },
  "language_info": {
   "codemirror_mode": {
    "name": "ipython",
    "version": 3
   },
   "file_extension": ".py",
   "mimetype": "text/x-python",
   "name": "python",
   "nbconvert_exporter": "python",
   "pygments_lexer": "ipython3",
   "version": "3.8.5"
  }
 },
 "nbformat": 4,
 "nbformat_minor": 5
}
